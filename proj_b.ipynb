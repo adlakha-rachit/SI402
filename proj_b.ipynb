{
 "cells": [
  {
   "cell_type": "code",
   "execution_count": 7,
   "metadata": {},
   "outputs": [
    {
     "name": "stdout",
     "output_type": "stream",
     "text": [
      "[ 3.201  6.58   5.846 10.733  2.059  2.867  6.062 11.881  8.489  8.377\n",
      "  3.953  5.705  5.716  8.584  9.962  7.95   5.046  7.864  1.251  7.685\n",
      " 10.242  3.777  9.489  3.238 11.698  5.724  3.459  5.364  0.515  5.752\n",
      "  5.985  5.549  6.173  7.734  4.737  5.022  5.469  3.762  5.389  4.959\n",
      "  5.266 -0.224  9.855  4.977  3.714 -1.521  9.24   8.611  9.453  4.784\n",
      "  9.188  3.805  2.929  0.913  3.335  5.184  1.223  5.874  0.943  5.18\n",
      " -0.052  4.235  7.149  7.164 -1.565  5.635  5.058  2.569  3.504  6.702\n",
      " -0.295  7.581  2.038  5.649  6.788  6.1    3.923  0.719  7.356  4.143\n",
      "  7.212  7.718  3.733  2.58   1.734  6.667  2.045  6.365  2.741  7.316\n",
      " -0.021  3.651  3.483  0.329  4.836  2.53   0.949  4.577  1.335  6.866]\n"
     ]
    }
   ],
   "source": [
    "import numpy as np\n",
    "n = 100\n",
    "mu = 5\n",
    "sigma = 3 \n",
    "mu_not = 4\n",
    "\n",
    "sample = np.random.normal(mu,sigma,n)\n",
    "print(np.round(sample,3))"
   ]
  },
  {
   "cell_type": "code",
   "execution_count": 8,
   "metadata": {},
   "outputs": [
    {
     "name": "stdout",
     "output_type": "stream",
     "text": [
      "4.976250672023098\n"
     ]
    }
   ],
   "source": [
    "mean = 0\n",
    "for i in sample:\n",
    "    mean+=i\n",
    "mean = mean/n\n",
    "print(mean)"
   ]
  },
  {
   "cell_type": "code",
   "execution_count": 9,
   "metadata": {},
   "outputs": [
    {
     "name": "stdout",
     "output_type": "stream",
     "text": [
      "8.732463367002941\n",
      "2.9550741728428647\n"
     ]
    }
   ],
   "source": [
    "sig = 0\n",
    "\n",
    "for j in sample:\n",
    "    sig = sig + (j-mean)*(j-mean)\n",
    "ssq = sig/(n-1)\n",
    "print(ssq)\n",
    "print(np.sqrt(ssq))"
   ]
  }
 ],
 "metadata": {
  "kernelspec": {
   "display_name": "Python 3",
   "language": "python",
   "name": "python3"
  },
  "language_info": {
   "codemirror_mode": {
    "name": "ipython",
    "version": 3
   },
   "file_extension": ".py",
   "mimetype": "text/x-python",
   "name": "python",
   "nbconvert_exporter": "python",
   "pygments_lexer": "ipython3",
   "version": "3.6.8"
  }
 },
 "nbformat": 4,
 "nbformat_minor": 2
}
